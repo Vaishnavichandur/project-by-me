{
  "nbformat": 4,
  "nbformat_minor": 0,
  "metadata": {
    "colab": {
      "provenance": [],
      "authorship_tag": "ABX9TyPUyF8ilZA37GgP8/mxW3rL",
      "include_colab_link": true
    },
    "kernelspec": {
      "name": "python3",
      "display_name": "Python 3"
    },
    "language_info": {
      "name": "python"
    }
  },
  "cells": [
    {
      "cell_type": "markdown",
      "metadata": {
        "id": "view-in-github",
        "colab_type": "text"
      },
      "source": [
        "<a href=\"https://colab.research.google.com/github/Vaishnavichandur/project-by-me/blob/main/stockpriceprediction.ipynb\" target=\"_parent\"><img src=\"https://colab.research.google.com/assets/colab-badge.svg\" alt=\"Open In Colab\"/></a>"
      ]
    },
    {
      "cell_type": "code",
      "execution_count": null,
      "metadata": {
        "id": "zgvYNNvVDY6t"
      },
      "outputs": [],
      "source": [
        "import numpy as np\n",
        "import pandas as pd\n",
        "import yfinance as yf\n",
        "import matplotlib.pyplot as plt\n",
        "from sklearn.preprocessing import MinMaxScaler\n",
        "from tensorflow.keras.models import Sequential\n",
        "from tensorflow.keras.layers import LSTM, Dense, Dropout\n",
        "\n",
        "# Fetch stock data\n",
        "def get_stock_data(ticker, start, end):\n",
        "    stock_data = yf.download(ticker, start=start, end=end)\n",
        "    return stock_data[['Close']]\n",
        "\n",
        "# Prepare dataset for LSTM\n",
        "def prepare_data(data, time_step=60):\n",
        "    scaler = MinMaxScaler(feature_range=(0,1))\n",
        "    data_scaled = scaler.fit_transform(data)\n",
        "    X, y = [], []\n",
        "    for i in range(time_step, len(data_scaled)):\n",
        "        X.append(data_scaled[i-time_step:i, 0])\n",
        "        y.append(data_scaled[i, 0])\n",
        "    return np.array(X), np.array(y), scaler\n",
        "\n",
        "# Build LSTM model\n",
        "def build_lstm_model(input_shape):\n",
        "    model = Sequential([\n",
        "        LSTM(50, return_sequences=True, input_shape=input_shape),\n",
        "        Dropout(0.2),\n",
        "        LSTM(50, return_sequences=False),\n",
        "        Dropout(0.2),\n",
        "        Dense(25),\n",
        "        Dense(1)\n",
        "    ])\n",
        "    model.compile(optimizer='adam', loss='mean_squared_error')\n",
        "    return model\n",
        "\n",
        "# Main execution\n",
        "if __name__ == \"__main__\":\n",
        "    ticker = 'AAPL'  # Change to desired stock ticker\n",
        "    start_date = '2020-01-01'\n",
        "    end_date = '2024-01-01'\n",
        "\n",
        "    data = get_stock_data(ticker, start_date, end_date)\n",
        "\n",
        "    # Prepare training data\n",
        "    X, y, scaler = prepare_data(data.values)\n",
        "    X = np.reshape(X, (X.shape[0], X.shape[1], 1))\n",
        "\n",
        "    # Train model\n",
        "    model = build_lstm_model((X.shape[1], 1))\n",
        "    model.fit(X, y, epochs=20, batch_size=32)\n",
        "\n",
        "    # Predict next day's price\n",
        "    last_60_days = data.values[-60:].reshape(1, -1)\n",
        "    last_60_days_scaled = scaler.transform(last_60_days.T).T\n",
        "    X_test = np.reshape(last_60_days_scaled, (1, last_60_days_scaled.shape[1], 1))\n",
        "    predicted_price = model.predict(X_test)\n",
        "    predicted_price = scaler.inverse_transform(predicted_price)\n",
        "\n",
        "    print(f\"Predicted closing price for next day: {predicted_price[0][0]}\")\n",
        "\n",
        "    # Plot actual vs predicted prices\n",
        "    plt.plot(data.index[-100:], data.values[-100:], label='Actual Prices')\n",
        "    plt.axvline(data.index[-1], color='r', linestyle='--', label='Prediction Point')\n",
        "    plt.scatter(data.index[-1], predicted_price, color='g', label='Predicted Price')\n",
        "    plt.legend()\n",
        "    plt.show()\n"
      ]
    }
  ]
}